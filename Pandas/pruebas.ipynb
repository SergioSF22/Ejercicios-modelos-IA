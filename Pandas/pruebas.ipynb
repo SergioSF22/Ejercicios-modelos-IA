{
 "cells": [
  {
   "cell_type": "code",
   "execution_count": null,
   "metadata": {},
   "outputs": [],
   "source": [
    "import pandas as pd\n",
    "\n",
    "# Dar mis propios nombres a las columnas de un dataframe\n",
    "columnas = [\"1\", \"2\", \"3\", \"4\", \"5\", \"6\"]\n",
    "data = pd.read_csv(\"Catalog_v2.csv\", header=0, names=columnas)"
   ]
  },
  {
   "cell_type": "code",
   "execution_count": null,
   "metadata": {},
   "outputs": [
    {
     "name": "stdout",
     "output_type": "stream",
     "text": [
      "Departamento  Sexo  \n",
      "IT            Hombre    1\n",
      "              Mujer     1\n",
      "RRHH          Hombre    1\n",
      "              Mujer     1\n",
      "Ventas        Hombre    2\n",
      "              Mujer     1\n",
      "Name: Sexo, dtype: int64\n"
     ]
    }
   ],
   "source": [
    "# Crear un DataFrame de ejemplo\n",
    "data = {\n",
    "    \"Departamento\": [\"Ventas\", \"Ventas\", \"IT\", \"IT\", \"RRHH\", \"RRHH\", \"Ventas\"],\n",
    "    \"Empleado\": [\"Ana\", \"Luis\", \"Pedro\", \"Marta\", \"Sofía\", \"Carlos\", \"David\"],\n",
    "    \"Salario\": [30000, 50000, 60000, 55000, 40000, 42000, 48000],\n",
    "    \"Edad\": [25, 30, 40, 35, 28, 45, 32],\n",
    "    \"Sexo\": [\"Mujer\", \"Hombre\", \"Hombre\", \"Mujer\", \"Mujer\", \"Hombre\", \"Hombre\"],\n",
    "}\n",
    "df = pd.DataFrame(data)\n",
    "# Agrupa los datos por Departamentos y por sexo. Especifica etiquetas 'hombre' y 'muher' para cada grupo\n",
    "result = df.groupby([\"Departamento\", \"Sexo\"])[\"Sexo\"].count()\n",
    "print(result)\n"
   ]
  }
 ],
 "metadata": {
  "kernelspec": {
   "display_name": ".venv",
   "language": "python",
   "name": "python3"
  },
  "language_info": {
   "codemirror_mode": {
    "name": "ipython",
    "version": 3
   },
   "file_extension": ".py",
   "mimetype": "text/x-python",
   "name": "python",
   "nbconvert_exporter": "python",
   "pygments_lexer": "ipython3",
   "version": "3.10.0"
  }
 },
 "nbformat": 4,
 "nbformat_minor": 2
}
