{
 "cells": [
  {
   "cell_type": "markdown",
   "metadata": {},
   "source": [
    "### ¿Qué es una Serie de Pandas?\n",
    "\n",
    "- Una **Serie** en Pandas es un **objeto unidimensional etiquetado** capaz de contener cualquier tipo de datos, como enteros, flotantes, cadenas de texto y objetos de Python.\n",
    "- Las etiquetas en una Serie se denominan **índices**, y se utilizan para acceder y manipular elementos de la Serie.\n",
    "- Podemos **crear una Serie** en Pandas utilizando el constructor `pd.Series()`."
   ]
  },
  {
   "cell_type": "code",
   "execution_count": 1,
   "metadata": {},
   "outputs": [
    {
     "name": "stdout",
     "output_type": "stream",
     "text": [
      "Serie a partir de una lista:\n",
      "0    10\n",
      "1    20\n",
      "2    30\n",
      "3    40\n",
      "4    50\n",
      "dtype: int64\n",
      "\n",
      "Serie a partir de un diccionario:\n",
      "a    10\n",
      "b    20\n",
      "c    30\n",
      "d    40\n",
      "e    50\n",
      "dtype: int64\n",
      "\n",
      "Serie a partir de un array de NumPy:\n",
      "0    10\n",
      "1    20\n",
      "2    30\n",
      "3    40\n",
      "4    50\n",
      "dtype: int64\n"
     ]
    }
   ],
   "source": [
    "import numpy as np\n",
    "import pandas as pd\n",
    "\n",
    "# Crear una Serie a partir de una lista\n",
    "my_list = [10, 20, 30, 40, 50] \n",
    "serie_from_list = pd.Series(my_list) \n",
    "print(\"Serie a partir de una lista:\") \n",
    "print(serie_from_list)\n",
    "\n",
    "# Crear una Serie a partir de un diccionario\n",
    "my_dict = {'a': 10, 'b': 20, 'c': 30, 'd': 40, 'e': 50} \n",
    "serie_from_dict = pd.Series(my_dict)\n",
    "print(\"\\nSerie a partir de un diccionario:\") \n",
    "print(serie_from_dict)\n",
    "\n",
    "# Crear una Serie a partir de un array de NumPy\n",
    "my_array = np.array([10, 20, 30, 40, 50]) \n",
    "serie_from_array = pd.Series(my_array) \n",
    "print(\"\\nSerie a partir de un array de NumPy:\") \n",
    "print(serie_from_array)"
   ]
  },
  {
   "cell_type": "markdown",
   "metadata": {},
   "source": [
    "### Arrays de Numpy y Series de Pandas\n",
    "\n",
    "- Una Serie en Pandas es un **objeto unidimensional** que puede contener datos de cualquier tipo, como enteros, flotantes, cadenas de caracteres, etc.\n",
    "- Internamente, una **Serie de Pandas** almacena sus datos en un **array de Numpy**, pero también incluye **etiquetas para los índices** y tiene algunas funcionalidades adicionales específicas de Pandas.\n",
    "- Aunque una Serie de Pandas se basa en un array de Numpy, **no es exactamente igual a un array de Numpy**.\n",
    "- Es fácil convertir una Serie en un array de Numpy utilizando la **propiedad** `.values`:"
   ]
  },
  {
   "attachments": {
    "image-2.png": {
     "image/png": "[encoded data removed]"
    },
    "image.png": {
     "image/png": "[encoded data removed]"
    }
   },
   "cell_type": "markdown",
   "metadata": {},
   "source": [
    "![image-2.png](attachment:image-2.png)"
   ]
  },
  {
   "cell_type": "code",
   "execution_count": null,
   "metadata": {},
   "outputs": [
    {
     "name": "stdout",
     "output_type": "stream",
     "text": [
      "<class 'numpy.ndarray'>\n",
      "[1 2 3 4 5]\n"
     ]
    }
   ],
   "source": [
    "# Crear una serie de Pandas\n",
    "serie = pd.Series([1, 2, 3, 4, 5])\n",
    "\n",
    "# Obtener el array de Numpy subyacente\n",
    "numpy_array = serie.values\n",
    "print(type(numpy_array)) # Output: <class 'numpy.ndarray'>\n",
    "print(numpy_array)"
   ]
  },
  {
   "cell_type": "markdown",
   "metadata": {},
   "source": [
    "### Acceso a elementos y slicing en Series\n",
    "\n",
    "Podemos **acceder a los elementos** de una Serie utilizando sus índices, ya sea por posición o por etiqueta (si se proporcionaron etiquetas en el momento de la creación)."
   ]
  },
  {
   "cell_type": "code",
   "execution_count": 7,
   "metadata": {},
   "outputs": [
    {
     "name": "stdout",
     "output_type": "stream",
     "text": [
      "\n",
      "Primer elemento de la serie:\n",
      "10\n",
      "\n",
      "Elemento con etiqueta 'a':\n",
      "10\n"
     ]
    }
   ],
   "source": [
    "# Acceder a elementos por posición\n",
    "print(\"\\nPrimer elemento de la serie:\") \n",
    "print(serie_from_list[0])\n",
    "\n",
    "# Acceder a elementos por etiqueta\n",
    "print(\"\\nElemento con etiqueta 'a':\") \n",
    "print(serie_from_dict['a'])"
   ]
  },
  {
   "cell_type": "markdown",
   "metadata": {},
   "source": [
    "También podemos hacer slicing en una Serie para seleccionar un subconjunto de elementos"
   ]
  },
  {
   "cell_type": "code",
   "execution_count": 6,
   "metadata": {},
   "outputs": [
    {
     "name": "stdout",
     "output_type": "stream",
     "text": [
      "\n",
      "Primeros tres elementos de la serie:\n",
      "0    10\n",
      "1    20\n",
      "2    30\n",
      "dtype: int64\n"
     ]
    }
   ],
   "source": [
    "# Slicing de una Serie\n",
    "print(\"\\nPrimeros tres elementos de la serie:\") \n",
    "print(serie_from_list[:3])"
   ]
  },
  {
   "cell_type": "markdown",
   "metadata": {},
   "source": [
    "### **Operaciones básicas y funciones estadísticas en Series**\n",
    "\n",
    "Pandas admite una amplia variedad de **operaciones matemáticas y funciones estadísticas** en Series. Algunas de las funciones más comunes incluyen `sum()`, `mean()`, `median()`, `min()`, `max()` y `std()`"
   ]
  },
  {
   "cell_type": "code",
   "execution_count": 11,
   "metadata": {},
   "outputs": [
    {
     "name": "stdout",
     "output_type": "stream",
     "text": [
      "0    20\n",
      "1    30\n",
      "2    40\n",
      "3    50\n",
      "4    60\n",
      "dtype: int64\n",
      "0     20\n",
      "1     40\n",
      "2     60\n",
      "3     80\n",
      "4    100\n",
      "dtype: int64\n",
      "150\n",
      "30.0\n",
      "30.0\n",
      "10\n",
      "50\n",
      "15.811388300841896\n"
     ]
    }
   ],
   "source": [
    "# Operaciones básicas en Series\n",
    "addition = serie_from_list + 10 \n",
    "multiplication = serie_from_list * 2\n",
    "\n",
    "# Funciones estadísticas en Series\n",
    "total = serie_from_list.sum()\n",
    "mean = serie_from_list.mean()\n",
    "median = serie_from_list.median()\n",
    "minimum = serie_from_list.min()\n",
    "maximum = serie_from_list.max()\n",
    "std_dev = serie_from_list.std()\n",
    "\n",
    "print(addition)\n",
    "print(multiplication)\n",
    "print(total)\n",
    "print(mean)\n",
    "print(median)\n",
    "print(minimum)\n",
    "print(maximum)\n",
    "print(std_dev)\n"
   ]
  },
  {
   "cell_type": "markdown",
   "metadata": {},
   "source": [
    "### **Modificar elementos y agregar datos a una Serie**\n",
    "\n",
    "Puede modificar elementos de una Serie asignando un **nuevo valor a un índice** específico.\n",
    "Además, puede agregar datos a una Serie utilizando el método `append()`"
   ]
  },
  {
   "cell_type": "code",
   "execution_count": 12,
   "metadata": {},
   "outputs": [
    {
     "name": "stdout",
     "output_type": "stream",
     "text": [
      "\n",
      "Serie modificada:\n",
      "0    100\n",
      "1     20\n",
      "2     30\n",
      "3     40\n",
      "4     50\n",
      "dtype: int64\n",
      "0    10\n",
      "1    20\n",
      "2    30\n",
      "3    40\n",
      "4    50\n",
      "5    60\n",
      "6    70\n",
      "7    80\n",
      "dtype: int64\n"
     ]
    }
   ],
   "source": [
    "# Modificar un elemento de una Serie\n",
    "serie_from_list[0] = 100 \n",
    "print(\"\\nSerie modificada:\") \n",
    "print(serie_from_list)\n",
    "\n",
    "# Crear la Serie original para ampliarla posteriormente\n",
    "serie_from_list = pd.Series([10, 20, 30, 40, 50])\n",
    "\n",
    "# Nueva Serie a agregar\n",
    "new_data = pd.Series([60, 70, 80])\n",
    "\n",
    "# Usar pd.concat()\n",
    "serie_extended = pd.concat([serie_from_list, new_data], ignore_index=True)\n",
    "\n",
    "print(serie_extended)\n"
   ]
  }
 ],
 "metadata": {
  "kernelspec": {
   "display_name": ".venv",
   "language": "python",
   "name": "python3"
  },
  "language_info": {
   "codemirror_mode": {
    "name": "ipython",
    "version": 3
   },
   "file_extension": ".py",
   "mimetype": "text/x-python",
   "name": "python",
   "nbconvert_exporter": "python",
   "pygments_lexer": "ipython3",
   "version": "3.10.0"
  }
 },
 "nbformat": 4,
 "nbformat_minor": 2
}
