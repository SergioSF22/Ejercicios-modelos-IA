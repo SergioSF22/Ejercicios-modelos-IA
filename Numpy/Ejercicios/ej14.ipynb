{
 "cells": [
  {
   "cell_type": "markdown",
   "metadata": {},
   "source": [
    "- 14. Cálculo de probabilidades con Softmax\n",
    "    \n",
    "    ### **Contexto:**\n",
    "    \n",
    "    Softmax convierte logits en probabilidades normalizadas para clasificación en modelos de Machine Learning.\n",
    "    \n",
    "    ### **Tareas:**\n",
    "    \n",
    "    1. Define un array con tres valores representando logits de un modelo.\n",
    "    2. Aplica la función exponencial a cada valor y normaliza dividiendo entre la suma total.\n",
    "    3. Imprime las probabilidades resultantes.\n",
    "    4. Implementa el cálculo de softmax utilizando las funciones de `scipy.special.softmax` y `sklearn.utils.extmath.softmax`. Compara los resultados."
   ]
  },
  {
   "cell_type": "code",
   "execution_count": 1,
   "metadata": {},
   "outputs": [
    {
     "name": "stdout",
     "output_type": "stream",
     "text": [
      "Logits:  [2.45 0.55 1.23]\n",
      "Probabilidades con fórmula:  [0.6921379  0.10352211 0.20433999]\n",
      "-----------------------------------------------------------------\n",
      "Probabilidades con scipy:  [0.6921379  0.10352211 0.20433999]\n",
      "-----------------------------------------------------------------\n",
      "Probabilidades con sklearn:  [[0.6921379  0.10352211 0.20433999]]\n"
     ]
    }
   ],
   "source": [
    "from scipy.special import softmax\n",
    "from sklearn.utils.extmath import softmax as sk_softmax\n",
    "import numpy as np\n",
    "\n",
    "logits_array = np.array([2.45, 0.55, 1.23])\n",
    "print(\"Logits: \", logits_array)\n",
    "\n",
    "probabilities = np.exp(logits_array) / np.sum(np.exp(logits_array))\n",
    "print(\"Probabilidades con fórmula: \", probabilities)\n",
    "\n",
    "print(\"-\" * 65)\n",
    "probabilities_scipy = softmax(logits_array)\n",
    "print(\"Probabilidades con scipy: \", probabilities_scipy)\n",
    "\n",
    "print(\"-\" * 65)\n",
    "probabilities_scipy = sk_softmax(logits_array.reshape(1, -1))\n",
    "print(\"Probabilidades con sklearn: \", probabilities_scipy)"
   ]
  }
 ],
 "metadata": {
  "kernelspec": {
   "display_name": ".venv",
   "language": "python",
   "name": "python3"
  },
  "language_info": {
   "codemirror_mode": {
    "name": "ipython",
    "version": 3
   },
   "file_extension": ".py",
   "mimetype": "text/x-python",
   "name": "python",
   "nbconvert_exporter": "python",
   "pygments_lexer": "ipython3",
   "version": "3.10.0"
  }
 },
 "nbformat": 4,
 "nbformat_minor": 2
}
