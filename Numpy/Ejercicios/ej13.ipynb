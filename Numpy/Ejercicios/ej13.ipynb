{
 "cells": [
  {
   "cell_type": "markdown",
   "metadata": {},
   "source": [
    "- 13. Cálculo del RMSE (Error Cuadrático Medio)\n",
    "    \n",
    "    ### **Contexto:**\n",
    "    \n",
    "    El RMSE es una métrica común en Machine Learning para evaluar la precisión de un modelo.\n",
    "    \n",
    "    ### **Tareas:**\n",
    "    \n",
    "    1. Define dos arrays: uno con valores reales (`y`) y otro con valores predichos (`y_pred`).\n",
    "    2. Calcula el error cuadrático medio (MSE) elevando al cuadrado las diferencias entre `y` y `y_pred`, promediando los valores y tomando la raíz cuadrada.\n",
    "    3. Imprime el resultado del RMSE.\n",
    "    4. Repite el cálculo utilizando la función `root_mean_squared_error` de `sklearn.metrics`."
   ]
  },
  {
   "cell_type": "code",
   "execution_count": 1,
   "metadata": {},
   "outputs": [
    {
     "name": "stdout",
     "output_type": "stream",
     "text": [
      "Datos reales: [ 6 44 49 20 39 14 16 26 19  3]\n",
      "Datos predichos:  [25  7 16 45 37 33 37 19 42 24]\n",
      "--------------------------------------------------\n",
      "RMSE mediante fórmula (Porcentaje): 22.95 %\n",
      "RMSE mediante fórmula:  22.954302428956538\n",
      "--------------------------------------------------\n",
      "RSME mediante Scikit-learn (Porcentaje): 22.95 %\n",
      "RSME mediante Scikit-learn: 22.954302428956538\n"
     ]
    }
   ],
   "source": [
    "import numpy as np\n",
    "from sklearn.metrics import root_mean_squared_error\n",
    "\n",
    "real_array = np.random.randint(1,50,10)\n",
    "prediction_array = np.random.randint(1,50,10)\n",
    "print(f\"Datos reales: {real_array}\")\n",
    "print(\"Datos predichos: \", prediction_array)\n",
    "\n",
    "print(\"-\" * 50)\n",
    "rmse = np.sqrt(np.mean((real_array - prediction_array) ** 2))\n",
    "print(f\"RMSE mediante fórmula (Porcentaje): {rmse:.2f} %\")\n",
    "print(\"RMSE mediante fórmula: \", rmse)\n",
    "\n",
    "sk_rmse = root_mean_squared_error(real_array, prediction_array)\n",
    "print(\"-\" * 50)\n",
    "print(f\"RSME mediante Scikit-learn (Porcentaje): {sk_rmse:.2f} %\")\n",
    "print(f\"RSME mediante Scikit-learn: {sk_rmse}\")"
   ]
  }
 ],
 "metadata": {
  "kernelspec": {
   "display_name": ".venv",
   "language": "python",
   "name": "python3"
  },
  "language_info": {
   "codemirror_mode": {
    "name": "ipython",
    "version": 3
   },
   "file_extension": ".py",
   "mimetype": "text/x-python",
   "name": "python",
   "nbconvert_exporter": "python",
   "pygments_lexer": "ipython3",
   "version": "3.10.0"
  }
 },
 "nbformat": 4,
 "nbformat_minor": 2
}
