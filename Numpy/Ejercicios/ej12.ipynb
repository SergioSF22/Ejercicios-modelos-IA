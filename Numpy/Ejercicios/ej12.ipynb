{
 "cells": [
  {
   "cell_type": "markdown",
   "metadata": {},
   "source": [
    "### **Contexto:**\n",
    "\n",
    "Los datos con sesgo positivo pueden beneficiarse de una transformación mediante raíz cuadrada para acercarlos a una distribución normal.\n",
    "\n",
    "### **Tareas:**\n",
    "\n",
    "1. Crea un array de valores que sigan una progresión exponencial, por ejemplo: `[1, 10, 100, 1000, 10000]`.\n",
    "2. Aplica la transformación de raíz cuadrada utilizando `np.sqrt()`.\n",
    "3. Imprime los valores originales y los valores transformados."
   ]
  },
  {
   "cell_type": "code",
   "execution_count": 1,
   "metadata": {},
   "outputs": [
    {
     "name": "stdout",
     "output_type": "stream",
     "text": [
      "Valores originales:  [    1    10   100  1000 10000]\n",
      "Valores transformados:  [  1.           3.16227766  10.          31.6227766  100.        ]\n"
     ]
    }
   ],
   "source": [
    "import numpy as np\n",
    "\n",
    "array_exp = np.logspace(0, 4, 5, 10, dtype=int)\n",
    "array_sqrt = np.sqrt(array_exp)\n",
    "print(\"Valores originales: \", array_exp)\n",
    "print(\"Valores transformados: \", array_sqrt)"
   ]
  }
 ],
 "metadata": {
  "kernelspec": {
   "display_name": ".venv",
   "language": "python",
   "name": "python3"
  },
  "language_info": {
   "codemirror_mode": {
    "name": "ipython",
    "version": 3
   },
   "file_extension": ".py",
   "mimetype": "text/x-python",
   "name": "python",
   "nbconvert_exporter": "python",
   "pygments_lexer": "ipython3",
   "version": "3.10.0"
  }
 },
 "nbformat": 4,
 "nbformat_minor": 2
}
