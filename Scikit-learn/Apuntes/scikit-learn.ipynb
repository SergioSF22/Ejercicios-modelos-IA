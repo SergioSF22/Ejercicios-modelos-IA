{
 "cells": [
  {
   "cell_type": "markdown",
   "metadata": {},
   "source": [
    "### **¿Qué es Scikit-learn?**\n",
    "\n",
    "Scikit-learn es una de las bibliotecas más utilizadas en Machine Learning con Python. Proporciona herramientas para:\n",
    "\n",
    "- Preprocesamiento de datos\n",
    "- Modelos de Machine Learning\n",
    "- Evaluación de modelos\n",
    "- Selección de características\n",
    "\n",
    "Su principal ventaja es que nos permite utilizar una interfaz uniforme. Todos los modelos siguen el patrón:"
   ]
  },
  {
   "cell_type": "code",
   "execution_count": 2,
   "metadata": {},
   "outputs": [
    {
     "ename": "NameError",
     "evalue": "name 'Algoritmo' is not defined",
     "output_type": "error",
     "traceback": [
      "\u001b[1;31m---------------------------------------------------------------------------\u001b[0m",
      "\u001b[1;31mNameError\u001b[0m                                 Traceback (most recent call last)",
      "Cell \u001b[1;32mIn[2], line 1\u001b[0m\n\u001b[1;32m----> 1\u001b[0m modelo \u001b[38;5;241m=\u001b[39m \u001b[43mAlgoritmo\u001b[49m()    \u001b[38;5;66;03m# Definir el modelo\u001b[39;00m\n\u001b[0;32m      2\u001b[0m modelo\u001b[38;5;241m.\u001b[39mfit(X_train, y_train)   \u001b[38;5;66;03m# Entrenar el modelo\u001b[39;00m\n\u001b[0;32m      3\u001b[0m predicciones \u001b[38;5;241m=\u001b[39m modelo\u001b[38;5;241m.\u001b[39mpredict(X_test)  \u001b[38;5;66;03m# Hacer predicciones\u001b[39;00m\n",
      "\u001b[1;31mNameError\u001b[0m: name 'Algoritmo' is not defined"
     ]
    }
   ],
   "source": [
    "modelo = Algoritmo()    # Definir el modelo\n",
    "modelo.fit(X_train, y_train)   # Entrenar el modelo\n",
    "predicciones = modelo.predict(X_test)  # Hacer predicciones"
   ]
  },
  {
   "cell_type": "markdown",
   "metadata": {},
   "source": [
    "## Historia\n",
    "\n",
    "**Scikit-learn** se inició en **2007** como parte del proyecto Google Summer of Code por David Cournapeau.\n",
    "\n",
    "Posteriormente, en **2010**, Fabian Pedregosa, Gael Varoquaux, Alexandre Gramfort y Vincent Michel, todos ellos investigadores del INRIA (Instituto Nacional de Investigación en Informática y Automática de Francia), tomaron la iniciativa y lanzaron la **primera versión estable** de Scikit-learn.\n",
    "\n",
    "Desde entonces, ha ganado popularidad y se ha convertido en una de las bibliotecas de aprendizaje automático más utilizadas en la comunidad de Python."
   ]
  },
  {
   "cell_type": "markdown",
   "metadata": {},
   "source": [
    "## Instalación"
   ]
  },
  {
   "cell_type": "markdown",
   "metadata": {},
   "source": [
    "pip install scikit-learn"
   ]
  },
  {
   "cell_type": "markdown",
   "metadata": {},
   "source": [
    "## Carga de un dataset y conversión a DataFrame"
   ]
  },
  {
   "cell_type": "code",
   "execution_count": 3,
   "metadata": {},
   "outputs": [
    {
     "name": "stdout",
     "output_type": "stream",
     "text": [
      ".. _iris_dataset:\n",
      "\n",
      "Iris plants dataset\n",
      "--------------------\n",
      "\n",
      "**Data Set Characteristics:**\n",
      "\n",
      ":Number of Instances: 150 (50 in each of three classes)\n",
      ":Number of Attributes: 4 numeric, predictive attributes and the class\n",
      ":Attribute Information:\n",
      "    - sepal length in cm\n",
      "    - sepal width in cm\n",
      "    - petal length in cm\n",
      "    - petal width in cm\n",
      "    - class:\n",
      "            - Iris-Setosa\n",
      "            - Iris-Versicolour\n",
      "            - Iris-Virginica\n",
      "\n",
      ":Summary Statistics:\n",
      "\n",
      "============== ==== ==== ======= ===== ====================\n",
      "                Min  Max   Mean    SD   Class Correlation\n",
      "============== ==== ==== ======= ===== ====================\n",
      "sepal length:   4.3  7.9   5.84   0.83    0.7826\n",
      "sepal width:    2.0  4.4   3.05   0.43   -0.4194\n",
      "petal length:   1.0  6.9   3.76   1.76    0.9490  (high!)\n",
      "petal width:    0.1  2.5   1.20   0.76    0.9565  (high!)\n",
      "============== ==== ==== ======= ===== ====================\n",
      "\n",
      ":Missing Attribute Values: None\n",
      ":Class Distribution: 33.3% for each of 3 classes.\n",
      ":Creator: R.A. Fisher\n",
      ":Donor: Michael Marshall (MARSHALL%PLU@io.arc.nasa.gov)\n",
      ":Date: July, 1988\n",
      "\n",
      "The famous Iris database, first used by Sir R.A. Fisher. The dataset is taken\n",
      "from Fisher's paper. Note that it's the same as in R, but not as in the UCI\n",
      "Machine Learning Repository, which has two wrong data points.\n",
      "\n",
      "This is perhaps the best known database to be found in the\n",
      "pattern recognition literature.  Fisher's paper is a classic in the field and\n",
      "is referenced frequently to this day.  (See Duda & Hart, for example.)  The\n",
      "data set contains 3 classes of 50 instances each, where each class refers to a\n",
      "type of iris plant.  One class is linearly separable from the other 2; the\n",
      "latter are NOT linearly separable from each other.\n",
      "\n",
      ".. dropdown:: References\n",
      "\n",
      "  - Fisher, R.A. \"The use of multiple measurements in taxonomic problems\"\n",
      "    Annual Eugenics, 7, Part II, 179-188 (1936); also in \"Contributions to\n",
      "    Mathematical Statistics\" (John Wiley, NY, 1950).\n",
      "  - Duda, R.O., & Hart, P.E. (1973) Pattern Classification and Scene Analysis.\n",
      "    (Q327.D83) John Wiley & Sons.  ISBN 0-471-22361-1.  See page 218.\n",
      "  - Dasarathy, B.V. (1980) \"Nosing Around the Neighborhood: A New System\n",
      "    Structure and Classification Rule for Recognition in Partially Exposed\n",
      "    Environments\".  IEEE Transactions on Pattern Analysis and Machine\n",
      "    Intelligence, Vol. PAMI-2, No. 1, 67-71.\n",
      "  - Gates, G.W. (1972) \"The Reduced Nearest Neighbor Rule\".  IEEE Transactions\n",
      "    on Information Theory, May 1972, 431-433.\n",
      "  - See also: 1988 MLC Proceedings, 54-64.  Cheeseman et al\"s AUTOCLASS II\n",
      "    conceptual clustering system finds 3 classes in the data.\n",
      "  - Many, many more ...\n",
      "\n",
      "   sepal length (cm)  sepal width (cm)  petal length (cm)  petal width (cm)  \\\n",
      "0                5.1               3.5                1.4               0.2   \n",
      "1                4.9               3.0                1.4               0.2   \n",
      "2                4.7               3.2                1.3               0.2   \n",
      "3                4.6               3.1                1.5               0.2   \n",
      "4                5.0               3.6                1.4               0.2   \n",
      "\n",
      "   species  \n",
      "0        0  \n",
      "1        0  \n",
      "2        0  \n",
      "3        0  \n",
      "4        0  \n"
     ]
    }
   ],
   "source": [
    "import pandas as pd\n",
    "from sklearn import datasets\n",
    "\n",
    "# Cargar el conjunto de datos de Iris\n",
    "iris = datasets.load_iris() # Carga el conjunto de datos Iris, un dataset que contiene información sobre tres tipos de flores de la especie Iris. Este conjunto de datos se carga como un objeto de tipo Bunch, que es similar a un diccionario y contiene varias claves útiles: 'data', 'target', 'frame', 'target_names', 'DESCR', 'feature_names', 'filename'\n",
    "\n",
    "# Ver una descripción del conjunto de datos de Iris\n",
    "print(iris.DESCR) \n",
    "\n",
    "# Convertir el conjunto de datos Iris a un DataFrame de Pandas\n",
    "iris_df = pd.DataFrame(data=iris.data, columns=iris.feature_names)\n",
    " \n",
    "# Agregar la columna objetivo (especies de Iris) al DataFrame\n",
    "iris_df['species'] = iris.target\n",
    "\n",
    "# Ver las primeras filas del DataFrame\n",
    "print(iris_df.head())"
   ]
  },
  {
   "cell_type": "markdown",
   "metadata": {},
   "source": [
    "| Clave         | Descripción                                                                                                                                    | Tipo de Dato                                     | Ejemplo                                                                                                                                            |\n",
    "| ------------- | ---------------------------------------------------------------------------------------------------------------------------------------------- | ------------------------------------------------ | -------------------------------------------------------------------------------------------------------------------------------------------------- |\n",
    "| data          | Matriz de características (variables predictoras o X) con los datos de entrada. Cada fila es una muestra y cada columna es una característica. | numpy.ndarray de tamaño (n_muestras, n_features) | iris.data.shape → (150, 4)                                                                                                                         |\n",
    "| target        | Vector de etiquetas o valores objetivo (Y). En clasificación, son clases; en regresión, valores numéricos.                                     | numpy.ndarray de tamaño (n_muestras,)            | iris.target[:5] → [0, 1, 1, 2, 0]                                                                                                                  |\n",
    "| frame         | Dataset en formato DataFrame de Pandas (si está disponible).                                                                                   | pandas.DataFrameo None                           | diabetes = load_diabetes(as_frame=True) → Cargar como DataFrame diabetes.frame.head()                                                              |\n",
    "| target_names  | Lista con los nombres de las clases en clasificación o descripción de la variable objetivo en regresión.                                       | list                                             | wine.target_names → ['class_0', 'class_1', 'class_2']                                                                                              |\n",
    "| DESCR         | Texto con la descripción del dataset, incluyendo características, número de muestras y referencias.                                            | str (texto largo)                                | print(boston.DESCR[:500]) → Nº de observaciones (filas), Nº de atributos (columnas), información sobre las características y propósito del dataset |\n",
    "| feature_names | Lista con los nombres de las variables predictoras.                                                                                            | list                                             | iris.feature_names → ['sepal length', 'sepal width', 'petal length', 'petal width']                                                                |\n",
    "| filename      | Ruta del archivo CSV donde está almacenado el dataset (si aplica).                                                                             | str o None                                       | wine.filename → '/usr/local/.../wine.csv'                                                                                                          |"
   ]
  },
  {
   "cell_type": "markdown",
   "metadata": {},
   "source": [
    "## Módulos clave en scikit-learn\n",
    "| Módulo                  | Función                                | Ejemplo                                      |\n",
    "| ----------------------- | -------------------------------------- | -------------------------------------------- |\n",
    "| sklearn.model_selection | Divide datos en entrenamiento y prueba | train_test_split(X, y, test_size=0.2)        |\n",
    "| sklearn.preprocessing   | Escala y transforma datos              | StandardScaler().fit_transform(X)            |\n",
    "| sklearn.linear_model    | Contiene la Regresión Lineal           | LinearRegression().fit(X_train, y_train)     |\n",
    "| sklearn.metrics         | Evalúa modelos                         | r2_score(y_true, y_pred), mean_squared_error |"
   ]
  }
 ],
 "metadata": {
  "kernelspec": {
   "display_name": ".venv",
   "language": "python",
   "name": "python3"
  },
  "language_info": {
   "codemirror_mode": {
    "name": "ipython",
    "version": 3
   },
   "file_extension": ".py",
   "mimetype": "text/x-python",
   "name": "python",
   "nbconvert_exporter": "python",
   "pygments_lexer": "ipython3",
   "version": "3.10.0"
  }
 },
 "nbformat": 4,
 "nbformat_minor": 2
}
