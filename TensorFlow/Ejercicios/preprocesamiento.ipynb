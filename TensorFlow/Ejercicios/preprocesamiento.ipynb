{
 "cells": [
  {
   "cell_type": "markdown",
   "id": "ff2e49fe",
   "metadata": {},
   "source": [
    "Ejercicio Preprocesamiento Redes Neuronales\n",
    "\n",
    "Abre el NoteBook `Intro Keras`. A continuación navega hasta la sección “Secuencial” dentro del bloque “Ejemplos prácticos de estructuras de capas”. El primer ejemplo hace referencia a un problema de clasificación multiclase sobre `iris dataset.` realiza las siguientes pruebas:\n",
    "\n",
    "1. Cambia la normalización de los datos de entrada realizada con `StandarScaler`  por una normalización realizada con `Normalization.`  ¿Cómo cambian los resultados?\n",
    "\t- La precisión del modelo se mantiene igual.\n",
    "\t- La salida de las capas densas (entrada, oculta y salida) pasa a ser desconocida.\n",
    "\t- La predicción realizada para probar el modelo es correcta.\n",
    "\n",
    "2. Cambia la codificación realizada con `to_categorical (One Hot Encoding)`  por una codificación realizada con `Integer encoding`. ¿Cómo cambian los resultados?\n",
    "\t- La precisión del modelo se mantiene igual.\n",
    "\t- La salida de las capas densas (entrada, oculta y salida) pasa a ser desconocida.\n",
    "\t- La predicción realizada para probar el modelo es correcta.\n",
    "\n",
    "3. ¿Podemos hacer algo para intentar aumentar la precisión del modelo? ¿Qué?\n",
    "\t- Añadir mas capas ocultas: Al añadir una capa oculta se observa una bajada de precisión de un 90% a un 80%\n",
    "\t- Añadir mas neuronas por capa: Al aumentar el número de neuronas en la capa oculta la precisión no se ve afectada y \tpermanece en 90%\n",
    "\t- Aumentar las épocas de entrenamiento: Al subir el número de épocas de 50 a 150 se observa una subida de precisión \tde \t90% a 97%, incluso 100% en algún caso."
   ]
  },
  {
   "cell_type": "code",
   "execution_count": 2,
   "id": "f6de3a01",
   "metadata": {},
   "outputs": [],
   "source": [
    "# !pip install tensorflow\n",
    "from tensorflow.keras.models import Sequential\n",
    "from tensorflow.keras.layers import Dense, Normalization\n",
    "from sklearn.model_selection import train_test_split\n",
    "from sklearn.datasets import load_iris\n",
    "from sklearn.preprocessing import StandardScaler, LabelEncoder\n",
    "import matplotlib.pyplot as plt\n",
    "import numpy as np\n",
    "import tensorflow as tf\n",
    "\n",
    "# === Carga y preprocesamiento de datos (Iris) ===\n",
    "\n",
    "# Cargar datos\n",
    "iris = load_iris()\n",
    "X = iris.data\n",
    "y = iris.target\n",
    "\n",
    "y = tf.keras.utils.to_categorical(y, 3)\n",
    "\n",
    "# División de datos\n",
    "X_train, X_test, y_train, y_test = train_test_split(X, y, test_size=0.2, random_state=42)\n",
    "\n",
    "# Preprocesamiento\n",
    "# Capa de normalización\n",
    "normalizer = Normalization()\n",
    "# Normalizador de variables categóricas\n",
    "encoder = LabelEncoder()\n",
    "\n",
    "# \"Adaptación\" del normalizador a los datos de entrenamiento\n",
    "normalizer.adapt(X_train)\n",
    "# Codificación de las variables categóricas a predecir\n",
    "# y_train = encoder.fit_transform(y_train)\n",
    "# y_test = encoder.transform(y_test)"
   ]
  },
  {
   "cell_type": "code",
   "execution_count": 3,
   "id": "abfdc330",
   "metadata": {},
   "outputs": [
    {
     "name": "stderr",
     "output_type": "stream",
     "text": [
      "c:\\Users\\SergioSF\\Desktop\\Programacion de Modelos de IA\\Ejercicios y apuntes\\.venv\\lib\\site-packages\\keras\\src\\layers\\core\\dense.py:93: UserWarning: Do not pass an `input_shape`/`input_dim` argument to a layer. When using Sequential models, prefer using an `Input(shape)` object as the first layer in the model instead.\n",
      "  super().__init__(activity_regularizer=activity_regularizer, **kwargs)\n"
     ]
    },
    {
     "data": {
      "text/html": [
       "<pre style=\"white-space:pre;overflow-x:auto;line-height:normal;font-family:Menlo,'DejaVu Sans Mono',consolas,'Courier New',monospace\"><span style=\"font-weight: bold\">Model: \"sequential\"</span>\n",
       "</pre>\n"
      ],
      "text/plain": [
       "\u001b[1mModel: \"sequential\"\u001b[0m\n"
      ]
     },
     "metadata": {},
     "output_type": "display_data"
    },
    {
     "data": {
      "text/html": [
       "<pre style=\"white-space:pre;overflow-x:auto;line-height:normal;font-family:Menlo,'DejaVu Sans Mono',consolas,'Courier New',monospace\">┏━━━━━━━━━━━━━━━━━━━━━━━━━━━━━━━━━┳━━━━━━━━━━━━━━━━━━━━━━━━┳━━━━━━━━━━━━━━━┓\n",
       "┃<span style=\"font-weight: bold\"> Layer (type)                    </span>┃<span style=\"font-weight: bold\"> Output Shape           </span>┃<span style=\"font-weight: bold\">       Param # </span>┃\n",
       "┡━━━━━━━━━━━━━━━━━━━━━━━━━━━━━━━━━╇━━━━━━━━━━━━━━━━━━━━━━━━╇━━━━━━━━━━━━━━━┩\n",
       "│ normalization (<span style=\"color: #0087ff; text-decoration-color: #0087ff\">Normalization</span>)   │ (<span style=\"color: #00af00; text-decoration-color: #00af00\">120</span>, <span style=\"color: #00af00; text-decoration-color: #00af00\">4</span>)               │             <span style=\"color: #00af00; text-decoration-color: #00af00\">9</span> │\n",
       "├─────────────────────────────────┼────────────────────────┼───────────────┤\n",
       "│ dense (<span style=\"color: #0087ff; text-decoration-color: #0087ff\">Dense</span>)                   │ ?                      │   <span style=\"color: #00af00; text-decoration-color: #00af00\">0</span> (unbuilt) │\n",
       "├─────────────────────────────────┼────────────────────────┼───────────────┤\n",
       "│ dense_1 (<span style=\"color: #0087ff; text-decoration-color: #0087ff\">Dense</span>)                 │ ?                      │   <span style=\"color: #00af00; text-decoration-color: #00af00\">0</span> (unbuilt) │\n",
       "├─────────────────────────────────┼────────────────────────┼───────────────┤\n",
       "│ dense_2 (<span style=\"color: #0087ff; text-decoration-color: #0087ff\">Dense</span>)                 │ ?                      │   <span style=\"color: #00af00; text-decoration-color: #00af00\">0</span> (unbuilt) │\n",
       "└─────────────────────────────────┴────────────────────────┴───────────────┘\n",
       "</pre>\n"
      ],
      "text/plain": [
       "┏━━━━━━━━━━━━━━━━━━━━━━━━━━━━━━━━━┳━━━━━━━━━━━━━━━━━━━━━━━━┳━━━━━━━━━━━━━━━┓\n",
       "┃\u001b[1m \u001b[0m\u001b[1mLayer (type)                   \u001b[0m\u001b[1m \u001b[0m┃\u001b[1m \u001b[0m\u001b[1mOutput Shape          \u001b[0m\u001b[1m \u001b[0m┃\u001b[1m \u001b[0m\u001b[1m      Param #\u001b[0m\u001b[1m \u001b[0m┃\n",
       "┡━━━━━━━━━━━━━━━━━━━━━━━━━━━━━━━━━╇━━━━━━━━━━━━━━━━━━━━━━━━╇━━━━━━━━━━━━━━━┩\n",
       "│ normalization (\u001b[38;5;33mNormalization\u001b[0m)   │ (\u001b[38;5;34m120\u001b[0m, \u001b[38;5;34m4\u001b[0m)               │             \u001b[38;5;34m9\u001b[0m │\n",
       "├─────────────────────────────────┼────────────────────────┼───────────────┤\n",
       "│ dense (\u001b[38;5;33mDense\u001b[0m)                   │ ?                      │   \u001b[38;5;34m0\u001b[0m (unbuilt) │\n",
       "├─────────────────────────────────┼────────────────────────┼───────────────┤\n",
       "│ dense_1 (\u001b[38;5;33mDense\u001b[0m)                 │ ?                      │   \u001b[38;5;34m0\u001b[0m (unbuilt) │\n",
       "├─────────────────────────────────┼────────────────────────┼───────────────┤\n",
       "│ dense_2 (\u001b[38;5;33mDense\u001b[0m)                 │ ?                      │   \u001b[38;5;34m0\u001b[0m (unbuilt) │\n",
       "└─────────────────────────────────┴────────────────────────┴───────────────┘\n"
      ]
     },
     "metadata": {},
     "output_type": "display_data"
    },
    {
     "data": {
      "text/html": [
       "<pre style=\"white-space:pre;overflow-x:auto;line-height:normal;font-family:Menlo,'DejaVu Sans Mono',consolas,'Courier New',monospace\"><span style=\"font-weight: bold\"> Total params: </span><span style=\"color: #00af00; text-decoration-color: #00af00\">9</span> (40.00 B)\n",
       "</pre>\n"
      ],
      "text/plain": [
       "\u001b[1m Total params: \u001b[0m\u001b[38;5;34m9\u001b[0m (40.00 B)\n"
      ]
     },
     "metadata": {},
     "output_type": "display_data"
    },
    {
     "data": {
      "text/html": [
       "<pre style=\"white-space:pre;overflow-x:auto;line-height:normal;font-family:Menlo,'DejaVu Sans Mono',consolas,'Courier New',monospace\"><span style=\"font-weight: bold\"> Trainable params: </span><span style=\"color: #00af00; text-decoration-color: #00af00\">0</span> (0.00 B)\n",
       "</pre>\n"
      ],
      "text/plain": [
       "\u001b[1m Trainable params: \u001b[0m\u001b[38;5;34m0\u001b[0m (0.00 B)\n"
      ]
     },
     "metadata": {},
     "output_type": "display_data"
    },
    {
     "data": {
      "text/html": [
       "<pre style=\"white-space:pre;overflow-x:auto;line-height:normal;font-family:Menlo,'DejaVu Sans Mono',consolas,'Courier New',monospace\"><span style=\"font-weight: bold\"> Non-trainable params: </span><span style=\"color: #00af00; text-decoration-color: #00af00\">9</span> (40.00 B)\n",
       "</pre>\n"
      ],
      "text/plain": [
       "\u001b[1m Non-trainable params: \u001b[0m\u001b[38;5;34m9\u001b[0m (40.00 B)\n"
      ]
     },
     "metadata": {},
     "output_type": "display_data"
    },
    {
     "name": "stdout",
     "output_type": "stream",
     "text": [
      "Precisión (Sequential): 1.00\n"
     ]
    },
    {
     "data": {
      "image/png": "[encoded data removed]",
      "text/plain": [
       "<Figure size 1600x800 with 2 Axes>"
      ]
     },
     "metadata": {},
     "output_type": "display_data"
    },
    {
     "name": "stdout",
     "output_type": "stream",
     "text": [
      "\n",
      "Entrada #0: [6.1 2.8 4.7 1.2]\n",
      "Etiqueta real: 1\n",
      "Etiqueta predicha: 1\n",
      "Correcto\n"
     ]
    }
   ],
   "source": [
    "# === Definición del modelo ===\n",
    "model = Sequential([\n",
    "    normalizer,\n",
    "    Dense(10, activation='relu', input_shape=(4,)),\n",
    "    Dense(8, activation='relu'),\n",
    "    Dense(3, activation='softmax')  # 3 clases\n",
    "])\n",
    "\n",
    "# Mostrar resumen del modelo\n",
    "model.summary()\n",
    "\n",
    "# === Compilación y entrenamiento ===\n",
    "model.compile(optimizer='adam', loss='categorical_crossentropy', metrics=['accuracy'])\n",
    "history = model.fit(X_train, y_train, epochs=150, validation_split=0.2, verbose=0)\n",
    "\n",
    "# === Evaluación ===\n",
    "loss, accuracy = model.evaluate(X_test, y_test, verbose=0)\n",
    "print(f\"Precisión (Sequential): {accuracy:.2f}\")\n",
    "\n",
    "# === Gráficos del entrenamiento ===\n",
    "fig, ax = plt.subplots(1, 2, figsize=(16, 8))\n",
    "\n",
    "# Pérdida\n",
    "ax[0].plot(history.history['loss'], color='b', label=\"Training loss\")\n",
    "ax[0].plot(history.history['val_loss'], color='r', label=\"Validation loss\")\n",
    "ax[0].legend(loc='best', shadow=True)\n",
    "ax[0].set_title('Pérdida durante el entrenamiento')\n",
    "\n",
    "# Precisión\n",
    "ax[1].plot(history.history['accuracy'], color='b', label=\"Training accuracy\")\n",
    "ax[1].plot(history.history['val_accuracy'], color='r', label=\"Validation accuracy\")\n",
    "ax[1].legend(loc='best', shadow=True)\n",
    "ax[1].set_title('Precisión durante el entrenamiento')\n",
    "\n",
    "plt.show()\n",
    "\n",
    "# === Predicción de un ejemplo concreto ===\n",
    "i = 0\n",
    "predictions = model.predict(X_test, verbose=0)\n",
    "\n",
    "# Entrada\n",
    "print(f\"\\nEntrada #{i}: {X_test[i]}\")\n",
    "\n",
    "# Etiqueta real\n",
    "real = np.argmax(y_test[i])\n",
    "print(f\"Etiqueta real: {real}\")\n",
    "\n",
    "# Predicción\n",
    "pred = np.argmax(predictions[i])\n",
    "print(f\"Etiqueta predicha: {pred}\")\n",
    "\n",
    "# Verificación\n",
    "print(\"Correcto\" if pred == real else \"Incorrecto\")\n"
   ]
  },
  {
   "cell_type": "code",
   "execution_count": 4,
   "id": "414da130",
   "metadata": {},
   "outputs": [
    {
     "name": "stdout",
     "output_type": "stream",
     "text": [
      "\n",
      "Entrada #0: [6.1 2.8 4.7 1.2]\n",
      "Etiqueta real: 1\n",
      "Etiqueta predicha: 1\n",
      "Correcto\n",
      "\n",
      "Entrada #1: [5.7 3.8 1.7 0.3]\n",
      "Etiqueta real: 0\n",
      "Etiqueta predicha: 0\n",
      "Correcto\n",
      "\n",
      "Entrada #2: [7.7 2.6 6.9 2.3]\n",
      "Etiqueta real: 2\n",
      "Etiqueta predicha: 2\n",
      "Correcto\n",
      "\n",
      "Entrada #3: [6.  2.9 4.5 1.5]\n",
      "Etiqueta real: 1\n",
      "Etiqueta predicha: 1\n",
      "Correcto\n",
      "\n",
      "Entrada #4: [6.8 2.8 4.8 1.4]\n",
      "Etiqueta real: 1\n",
      "Etiqueta predicha: 1\n",
      "Correcto\n",
      "\n",
      "Entrada #5: [5.4 3.4 1.5 0.4]\n",
      "Etiqueta real: 0\n",
      "Etiqueta predicha: 0\n",
      "Correcto\n",
      "\n",
      "Entrada #6: [5.6 2.9 3.6 1.3]\n",
      "Etiqueta real: 1\n",
      "Etiqueta predicha: 1\n",
      "Correcto\n",
      "\n",
      "Entrada #7: [6.9 3.1 5.1 2.3]\n",
      "Etiqueta real: 2\n",
      "Etiqueta predicha: 2\n",
      "Correcto\n",
      "\n",
      "Entrada #8: [6.2 2.2 4.5 1.5]\n",
      "Etiqueta real: 1\n",
      "Etiqueta predicha: 1\n",
      "Correcto\n",
      "\n",
      "Entrada #9: [5.8 2.7 3.9 1.2]\n",
      "Etiqueta real: 1\n",
      "Etiqueta predicha: 1\n",
      "Correcto\n",
      "\n",
      "Entrada #10: [6.5 3.2 5.1 2. ]\n",
      "Etiqueta real: 2\n",
      "Etiqueta predicha: 2\n",
      "Correcto\n",
      "\n",
      "Entrada #11: [4.8 3.  1.4 0.1]\n",
      "Etiqueta real: 0\n",
      "Etiqueta predicha: 0\n",
      "Correcto\n",
      "\n",
      "Entrada #12: [5.5 3.5 1.3 0.2]\n",
      "Etiqueta real: 0\n",
      "Etiqueta predicha: 0\n",
      "Correcto\n",
      "\n",
      "Entrada #13: [4.9 3.1 1.5 0.1]\n",
      "Etiqueta real: 0\n",
      "Etiqueta predicha: 0\n",
      "Correcto\n",
      "\n",
      "Entrada #14: [5.1 3.8 1.5 0.3]\n",
      "Etiqueta real: 0\n",
      "Etiqueta predicha: 0\n",
      "Correcto\n",
      "\n",
      "Entrada #15: [6.3 3.3 4.7 1.6]\n",
      "Etiqueta real: 1\n",
      "Etiqueta predicha: 1\n",
      "Correcto\n",
      "\n",
      "Entrada #16: [6.5 3.  5.8 2.2]\n",
      "Etiqueta real: 2\n",
      "Etiqueta predicha: 2\n",
      "Correcto\n",
      "\n",
      "Entrada #17: [5.6 2.5 3.9 1.1]\n",
      "Etiqueta real: 1\n",
      "Etiqueta predicha: 1\n",
      "Correcto\n",
      "\n",
      "Entrada #18: [5.7 2.8 4.5 1.3]\n",
      "Etiqueta real: 1\n",
      "Etiqueta predicha: 1\n",
      "Correcto\n",
      "\n",
      "Entrada #19: [6.4 2.8 5.6 2.2]\n",
      "Etiqueta real: 2\n",
      "Etiqueta predicha: 2\n",
      "Correcto\n",
      "\n",
      "Entrada #20: [4.7 3.2 1.6 0.2]\n",
      "Etiqueta real: 0\n",
      "Etiqueta predicha: 0\n",
      "Correcto\n",
      "\n",
      "Entrada #21: [6.1 3.  4.9 1.8]\n",
      "Etiqueta real: 2\n",
      "Etiqueta predicha: 2\n",
      "Correcto\n",
      "\n",
      "Entrada #22: [5.  3.4 1.6 0.4]\n",
      "Etiqueta real: 0\n",
      "Etiqueta predicha: 0\n",
      "Correcto\n",
      "\n",
      "Entrada #23: [6.4 2.8 5.6 2.1]\n",
      "Etiqueta real: 2\n",
      "Etiqueta predicha: 2\n",
      "Correcto\n",
      "\n",
      "Entrada #24: [7.9 3.8 6.4 2. ]\n",
      "Etiqueta real: 2\n",
      "Etiqueta predicha: 2\n",
      "Correcto\n",
      "\n",
      "Entrada #25: [6.7 3.  5.2 2.3]\n",
      "Etiqueta real: 2\n",
      "Etiqueta predicha: 2\n",
      "Correcto\n",
      "\n",
      "Entrada #26: [6.7 2.5 5.8 1.8]\n",
      "Etiqueta real: 2\n",
      "Etiqueta predicha: 2\n",
      "Correcto\n",
      "\n",
      "Entrada #27: [6.8 3.2 5.9 2.3]\n",
      "Etiqueta real: 2\n",
      "Etiqueta predicha: 2\n",
      "Correcto\n",
      "\n",
      "Entrada #28: [4.8 3.  1.4 0.3]\n",
      "Etiqueta real: 0\n",
      "Etiqueta predicha: 0\n",
      "Correcto\n",
      "\n",
      "Entrada #29: [4.8 3.1 1.6 0.2]\n",
      "Etiqueta real: 0\n",
      "Etiqueta predicha: 0\n",
      "Correcto\n"
     ]
    }
   ],
   "source": [
    "# === Predicción de un ejemplo concreto ===\n",
    "predictions = model.predict(X_test, verbose=0)\n",
    "\n",
    "for i in range(len(X_test)):\n",
    "    # Entrada\n",
    "    print(f\"\\nEntrada #{i}: {X_test[i]}\")\n",
    "\n",
    "    # Etiqueta real\n",
    "    real = np.argmax(y_test[i])\n",
    "    print(f\"Etiqueta real: {real}\")\n",
    "\n",
    "    # Predicción\n",
    "    pred = np.argmax(predictions[i])\n",
    "    print(f\"Etiqueta predicha: {pred}\")\n",
    "\n",
    "    # Verificación\n",
    "    print(\"Correcto\" if pred == real else \"Incorrecto\")"
   ]
  }
 ],
 "metadata": {
  "kernelspec": {
   "display_name": ".venv",
   "language": "python",
   "name": "python3"
  },
  "language_info": {
   "codemirror_mode": {
    "name": "ipython",
    "version": 3
   },
   "file_extension": ".py",
   "mimetype": "text/x-python",
   "name": "python",
   "nbconvert_exporter": "python",
   "pygments_lexer": "ipython3",
   "version": "3.10.0"
  }
 },
 "nbformat": 4,
 "nbformat_minor": 5
}
