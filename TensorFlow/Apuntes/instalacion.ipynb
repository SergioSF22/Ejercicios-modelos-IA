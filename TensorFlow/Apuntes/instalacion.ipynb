{
 "cells": [
  {
   "cell_type": "markdown",
   "id": "3dd626e0",
   "metadata": {},
   "source": [
    "Para comenzar a utilizar TensorFlow primero tenemos que instalarlo e importarlo:\n",
    "```bash\n",
    "pip install tensorflow\n",
    "```"
   ]
  },
  {
   "cell_type": "code",
   "execution_count": null,
   "id": "7e124aee",
   "metadata": {},
   "outputs": [],
   "source": [
    "import tensorflow as tf\n",
    "print(tf.__version__)  # Muestra la versión instalada"
   ]
  },
  {
   "cell_type": "markdown",
   "id": "47c38d5a",
   "metadata": {},
   "source": [
    "Si tu equipo tiene una tarjeta gráfica NVIDIA compatible y quieres acelerar el entrenamiento:\n",
    "```bash\n",
    "pip install tensorflow[and-cuda] # Necesitas tener instalados CUDA y cuDNN (tecnologías desarroladas por NVIDIA que permiten acelerar los cálculos en GPU. CUDA es la tecnología general para computación en GPU, mientras que cuDNN es una biblioteca optimizada para operaciones de Deep Learning)\n",
    "```"
   ]
  },
  {
   "cell_type": "code",
   "execution_count": null,
   "id": "e69c7341",
   "metadata": {},
   "outputs": [],
   "source": [
    "import tensorflow as tf\n",
    "print(\"GPUs disponibles:\", tf.config.list_physical_devices('GPU')) # Comprueba si TensorFlow detecta la GPU"
   ]
  },
  {
   "cell_type": "markdown",
   "id": "bda7c863",
   "metadata": {},
   "source": [
    "- Pasos para instalar CUDA y cuDNN\n",
    "    - Descargar e instalar CUDA\n",
    "        - Ve a la página oficial de NVIDIA: https://developer.nvidia.com/cuda-downloads\n",
    "        - Descarga la versión compatible con **TensorFlow** (actualmente **CUDA 11.x o 12.x** dependiendo de la versión de TensorFlow que uses).\n",
    "        - Sigue las instrucciones de instalación para tu sistema operativo.\n",
    "    - Descargar e instalar cuDNN\n",
    "        - Ve a la página oficial de cuDNN: https://developer.nvidia.com/cudnn\n",
    "        - Necesitas una cuenta en NVIDIA para descargarlo.\n",
    "        - Descarga la versión compatible con tu versión de **CUDA** y sigue las instrucciones de instalación."
   ]
  }
 ],
 "metadata": {
  "kernelspec": {
   "display_name": ".venv",
   "language": "python",
   "name": "python3"
  },
  "language_info": {
   "name": "python",
   "version": "3.10.0"
  }
 },
 "nbformat": 4,
 "nbformat_minor": 5
}
