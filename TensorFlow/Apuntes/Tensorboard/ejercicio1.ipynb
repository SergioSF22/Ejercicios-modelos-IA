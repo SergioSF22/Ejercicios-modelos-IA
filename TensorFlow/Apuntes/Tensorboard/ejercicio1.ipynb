{
 "cells": [
  {
   "cell_type": "markdown",
   "id": "34b4d225",
   "metadata": {},
   "source": [
    "Sobre los ejemplos realizados en clase de los modelos CNN MobileNet y Efficienent corre Tensorboard para analizar las capas\n"
   ]
  },
  {
   "cell_type": "code",
   "execution_count": 1,
   "id": "78f4c445",
   "metadata": {},
   "outputs": [],
   "source": [
    "# Load the TensorBoard notebook extension\n",
    "%load_ext tensorboard"
   ]
  },
  {
   "cell_type": "code",
   "execution_count": 6,
   "id": "cc63635e",
   "metadata": {},
   "outputs": [
    {
     "name": "stdout",
     "output_type": "stream",
     "text": [
      "Epoch 1/5\n",
      "704/704 - 72s - 102ms/step - accuracy: 0.4485 - loss: 1.5068 - val_accuracy: 0.5970 - val_loss: 1.1402\n",
      "Epoch 2/5\n",
      "704/704 - 68s - 97ms/step - accuracy: 0.6286 - loss: 1.0468 - val_accuracy: 0.6914 - val_loss: 0.9003\n",
      "Epoch 3/5\n",
      "704/704 - 67s - 95ms/step - accuracy: 0.7020 - loss: 0.8522 - val_accuracy: 0.7410 - val_loss: 0.7632\n",
      "Epoch 4/5\n",
      "704/704 - 67s - 95ms/step - accuracy: 0.7461 - loss: 0.7245 - val_accuracy: 0.7648 - val_loss: 0.7002\n",
      "Epoch 5/5\n",
      "704/704 - 70s - 100ms/step - accuracy: 0.7819 - loss: 0.6248 - val_accuracy: 0.7690 - val_loss: 0.6852\n"
     ]
    }
   ],
   "source": [
    "# 1. Importar librerías\n",
    "import tensorflow as tf\n",
    "from tensorflow.keras.datasets import cifar10\n",
    "from tensorflow.keras.models import Sequential\n",
    "from tensorflow.keras.layers import Conv2D, MaxPooling2D, Flatten, Dense, Dropout\n",
    "from tensorflow.keras.utils import to_categorical\n",
    "import matplotlib.pyplot as plt\n",
    "import numpy as np\n",
    "import datetime\n",
    "\n",
    "# 2. Cargar y preprocesar datos\n",
    "(x_train, y_train), (x_test, y_test) = cifar10.load_data()\n",
    "x_train = x_train.astype(\"float32\") / 255.0\n",
    "x_test = x_test.astype(\"float32\") / 255.0\n",
    "y_train_cat = to_categorical(y_train, 10)\n",
    "y_test_cat = to_categorical(y_test, 10)\n",
    "\n",
    "# 3. Arquitectura estilo VGG\n",
    "model = Sequential([\n",
    "    Conv2D(32, (3, 3), activation='relu',\n",
    "           padding='same', input_shape=(32, 32, 3)),\n",
    "    Conv2D(32, (3, 3), activation='relu', padding='same'),\n",
    "    MaxPooling2D(pool_size=(2, 2)),\n",
    "\n",
    "    Conv2D(64, (3, 3), activation='relu', padding='same'),\n",
    "    Conv2D(64, (3, 3), activation='relu', padding='same'),\n",
    "    MaxPooling2D(pool_size=(2, 2)),\n",
    "\n",
    "    Flatten(),\n",
    "    Dense(512, activation='relu'),\n",
    "    Dropout(0.5),\n",
    "    Dense(10, activation='softmax')\n",
    "])\n",
    "\n",
    "# 4. Compilar y entrenar\n",
    "model.compile(optimizer='adam', loss='categorical_crossentropy',\n",
    "              metrics=['accuracy'])\n",
    "\n",
    "# Log dir para TensorBoard\n",
    "log_dir = \"logs/fit/\" + datetime.datetime.now().strftime(\"%Y%m%d-%H%M%S\")\n",
    "tensorboard_callback = tf.keras.callbacks.TensorBoard(\n",
    "    log_dir=log_dir,\n",
    "    histogram_freq=1,\n",
    "    write_graph=True\n",
    ")\n",
    "\n",
    "history = model.fit(x_train, y_train_cat, epochs=5, batch_size=64, validation_split=0.1, verbose=2,\n",
    "                    callbacks=[tensorboard_callback])\n"
   ]
  },
  {
   "cell_type": "code",
   "execution_count": 7,
   "id": "313d3d03",
   "metadata": {},
   "outputs": [],
   "source": [
    "@tf.function(input_signature=[tf.TensorSpec([None, 32, 32, 3], tf.float32)])\n",
    "def traced_model(x):\n",
    "    return model(x)\n",
    "\n",
    "\n",
    "writer = tf.summary.create_file_writer(log_dir)\n",
    "with writer.as_default():\n",
    "    tf.summary.graph(traced_model.get_concrete_function(tf.zeros([1, 32, 32, 3])).graph)"
   ]
  },
  {
   "cell_type": "code",
   "execution_count": 8,
   "id": "06a8bb93",
   "metadata": {},
   "outputs": [
    {
     "data": {
      "text/plain": [
       "Reusing TensorBoard on port 6006 (pid 2512), started 1:07:57 ago. (Use '!kill 2512' to kill it.)"
      ]
     },
     "metadata": {},
     "output_type": "display_data"
    },
    {
     "data": {
      "text/html": [
       "\n",
       "      <iframe id=\"tensorboard-frame-542d65946eba50ff\" width=\"100%\" height=\"800\" frameborder=\"0\">\n",
       "      </iframe>\n",
       "      <script>\n",
       "        (function() {\n",
       "          const frame = document.getElementById(\"tensorboard-frame-542d65946eba50ff\");\n",
       "          const url = new URL(\"http://localhost\");\n",
       "          const port = 6006;\n",
       "          if (port) {\n",
       "            url.port = port;\n",
       "          }\n",
       "          frame.src = url;\n",
       "        })();\n",
       "      </script>\n",
       "    "
      ],
      "text/plain": [
       "<IPython.core.display.HTML object>"
      ]
     },
     "metadata": {},
     "output_type": "display_data"
    }
   ],
   "source": [
    "%tensorboard --logdir logs/fit"
   ]
  }
 ],
 "metadata": {
  "kernelspec": {
   "display_name": ".venv",
   "language": "python",
   "name": "python3"
  },
  "language_info": {
   "codemirror_mode": {
    "name": "ipython",
    "version": 3
   },
   "file_extension": ".py",
   "mimetype": "text/x-python",
   "name": "python",
   "nbconvert_exporter": "python",
   "pygments_lexer": "ipython3",
   "version": "3.10.0"
  }
 },
 "nbformat": 4,
 "nbformat_minor": 5
}
