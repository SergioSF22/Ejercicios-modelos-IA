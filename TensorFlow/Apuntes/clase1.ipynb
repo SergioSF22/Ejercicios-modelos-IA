{
 "cells": [
  {
   "cell_type": "markdown",
   "metadata": {},
   "source": [
    "# TENSORFLOW "
   ]
  },
  {
   "cell_type": "markdown",
   "metadata": {},
   "source": [
    "TensorFlow es una plataforma de código abierto para crear y entrenar modelos de aprendizaje automático.\n",
    "\n",
    "- **Sistema de computación simbólica**\n",
    "- **Grafos computacionales**: estructura que representa operaciones matemáticas y el flujo de datos entre ellas. Esta formada por:\n",
    "  - Nodos → representan operaciones (como suma, multiplicación).\n",
    "  - Aristas → representan los datos que fluyen entre operaciones (tensores).\n",
    "    x ----|\n",
    "          | → + → z\n",
    "    y ----|\n"
   ]
  },
  {
   "cell_type": "markdown",
   "metadata": {},
   "source": [
    "### ¿Por qué no ejecutamos operaciones directamente (como en Python)?\n",
    "\n",
    "1. **Podemos optimizar el grafo antes de ejecutarlo**: Antes de ejecutar las operaciones TensorFlow las analiza y las mejora automáticamente. Por ejemplo si tenemos `a = (3 * 1) + 0` TensorFlow se da cuenta de que es mejor escribir `a = 3`.\n",
    "2. **Se puede ejecutar en varios dispositivos**: TensorFlow puede correr el código en diferentes hardware de procesamiento:\n",
    "    - CPU (procesador normal) → lo que tiene cualquier ordenador.\n",
    "    - GPU (tarjeta gráfica) → es mucho más rápida para operaciones grandes, como entrenar modelos de IA.\n",
    "    - TPU (unidad de procesamiento de tensores) → un chip especial de Google aún más rápido para tareas específicas de Machine Learning.\n",
    "\n",
    "    #### ACTIVIDAD: Investiga como funciona una TPU y contesta a las preguntas de Notion [Enlace para la investigación](https://cloud.google.com/tpu/docs/system-architecture-tpu-vm?hl=es-419)\n",
    "3. **Es más fácil de guardar, exportar y reutilizar**: Cuando creas un grafo, además creas una representación completa del proceso. Cuando guardas un grafo (por ejemplo, con @tf.function o un modelo completo), TensorFlow guarda:\n",
    "    - Las operaciones (suma, multiplicación, capas, etc.).\n",
    "    - Los tensores que fluyen entre operaciones.\n",
    "    - Los pesos del modelo si es un modelo entrenado.\n",
    "    - El orden de ejecución y dependencias.\n",
    "    - Las firmas de entrada/salida.\n",
    "\n",
    "    Todo esto se guarda en formatos especiales, como:\n",
    "    - **SavedModel/** (carpeta que contiene todo el grafo y sus pesos).\n",
    "    - Archivos `.pb` (protobufs, para el grafo en sí).\n",
    "    - Archivos `.ckpt` (para checkpoints de pesos).\n",
    "\n",
    "| Guardar archivo `.py`                               | Guardar grafo/modelo en TensorFlow                               |\n",
    "|------------------------------------------------------|-------------------------------------------------------------------|\n",
    "| Guarda código fuente en texto plano.                | Guarda la estructura del grafo (operaciones, tensores) y pesos.  |\n",
    "| Necesita Python y TensorFlow para volver a usarlo.  | Puede usarse en otros entornos (C++, móvil, servidor, etc).      |\n",
    "| El código se tiene que volver a ejecutar.           | El grafo ya está listo para ejecutar.                            |\n",
    "| No incluye pesos ni estado del modelo.              | Incluye todo: arquitectura + pesos entrenados.                   |\n",
    "\n",
    "\n",
    "4. **Se puede visualizar (usando TensorBoard) para depurar o comprender el modelo**: TensorBoard es una herramienta visual incluida en TensorFlow que te permite ver lo que está pasando dentro de tu modelo:\n",
    "    - Ver qué operaciones hay.\n",
    "    - Ver qué datos fluyen entre ellas.\n",
    "    - Detectar errores o cuellos de botella."
   ]
  },
  {
   "cell_type": "markdown",
   "metadata": {},
   "source": [
    "### Eager Execution\n",
    "\n",
    "Desde TensorFlow 2, la ejecución inmediata (**Eager Execution**) está activada por defecto, lo que significa que cuando hacemos algo como:\n",
    "\n",
    "```python\n",
    "\n",
    "x = tf.constant(3.0)\n",
    "y = tf.constant(4.0)\n",
    "z = x + y\n",
    "print(z)\n",
    "\n",
    "```\n",
    "Esto se ejecuta línea por línea, como lo haría en Python puro."
   ]
  },
  {
   "cell_type": "code",
   "execution_count": null,
   "metadata": {},
   "outputs": [
    {
     "name": "stdout",
     "output_type": "stream",
     "text": [
      "tf version: 2.16.2\n",
      "El resultado de la suma es: 8.0\n",
      "Está activado EAGER EXECUTION: True\n"
     ]
    }
   ],
   "source": [
    "import tensorflow as tf\n",
    "print(f\"tf version:\", tf.__version__)  # Muestra la versión instalada\n",
    "\n",
    "# Definir dos constantes (tensores)\n",
    "a = tf.constant(5.0, name=\"constante_a\")\n",
    "b = tf.constant(3.0, name=\"constante_b\")\n",
    "\n",
    "# Realizar la suma (operación)\n",
    "suma = tf.add(a, b)\n",
    "\n",
    "# Mostrar el resultado\n",
    "print(\"El resultado de la suma es:\", suma.numpy())\n",
    "# Nota: En TensorFlow 2.x, no es necesario crear una sesión explícitamente porque se utiliza la \"eager execution\" por defecto, las operaciones se ejecutan de inmediato y no es necesario usar 'sess.run()'.\n",
    "\n",
    "print(f\"Está activado EAGER EXECUTION:\", tf.executing_eagerly()) # Verificar si la ejecución ansiosa está habilitada"
   ]
  },
  {
   "cell_type": "markdown",
   "metadata": {},
   "source": [
    "\n",
    "### Graph Execution\n",
    "\n",
    "**Graph Execution** convierte la función en un grafo computacional interno, listo para ser optimizado y ejecutado más eficientemente.\n",
    "\n",
    "- **Grafo Computacional**: Un grafo computacional es una red de operaciones conectadas entre sí. Cada nodo del grafo es una operación, y las flechas son los datos (tensores) que fluyen entre ellas.\n",
    "- **`@tf.function`**: Cada vez que usamos `@tf.function`, TensorFlow convierte la función en un grafo: detecta las operaciones, conecta los nodos, y crea un “mapa” del cálculo.\n",
    "\n",
    "| Tipo de ejecución                    | ¿Cómo funciona?                                | Ventaja                     | Ejemplo de uso                        |\n",
    "|-------------------------------------|------------------------------------------------|-----------------------------|---------------------------------------|\n",
    "| **Eager Execution**                 | Ejecuta operación por operación como en Python | Fácil de depurar y entender | `x + y` directamente                  |\n",
    "| **Graph Execution** (`@tf.function`) | Compila funciones en grafos antes de ejecutar  | Rápido y eficiente          | Modelos de producción o entrenamiento |\n"
   ]
  },
  {
   "cell_type": "code",
   "execution_count": null,
   "metadata": {},
   "outputs": [],
   "source": [
    "import tensorflow as tf\n",
    "\n",
    "@tf.function # Decorador para compilar la función en un grafo de TensorFlow\n",
    "def suma(a, b):\n",
    "    return a + b # Operación que crea un nodo de tipo Add en el grafo\n",
    "\n",
    "# Llamamos la función para que se genere el grafo\n",
    "resultado = suma(tf.constant(2.0), tf.constant(3.0))\n",
    "\n",
    "# Mostramos el resultado\n",
    "print(\"Resultado:\", resultado.numpy())\n"
   ]
  },
  {
   "cell_type": "markdown",
   "metadata": {},
   "source": [
    "# TensorBoard\n",
    "\n",
    "- TensorBoard es un dashboard web interactivo creado por Google para TensorFlow.\n",
    "- Permite visualizar la evolución y comportamiento de modelos de Machine Learning durante el entrenamiento y la evaluación.\n",
    "- Funciona leyendo archivos de registro (logs) que genera TensorFlow con datos del entrenamiento.\n"
   ]
  },
  {
   "cell_type": "markdown",
   "metadata": {},
   "source": [
    "- versión A:\n",
    "    - Usa una clase que hereda de tf.Module, organiza la lógica en un objeto.\n",
    "    - Instancias de tf.Module pueden guardarse fácilmente con `tf.saved_model.save()`, exportando tanto grafo como pesos.\n",
    "    - Más código, más formalismo, adecuado para proyectos o modelos.\n",
    "    - Especifica la forma y tipo exactos de entrada para el grafo, asegurando compatibilidad y mejor optimización.\n"
   ]
  },
  {
   "cell_type": "code",
   "execution_count": null,
   "metadata": {},
   "outputs": [],
   "source": [
    "import tensorflow as tf\n",
    "\n",
    "# 1. Creamos un grafo de TensorFlow utilizando tf.Module\n",
    "class Suma(tf.Module): # Clase que hereda de tf.Module para crear un modelo, permitiendo guardar y exportar funciones como un grafo\n",
    "    @tf.function(input_signature=[ #input_signature define los tipos y formas de los tensores de entrada\n",
    "        tf.TensorSpec(shape=(), dtype=tf.float32), # TensorSpec define la forma y tipo de los tensores de entrada\n",
    "        tf.TensorSpec(shape=(), dtype=tf.float32)\n",
    "    ])\n",
    "    def __call__(self, a, b): # \"Cuando alguien use este objeto como si fuera una función, se llamará a este método\"\n",
    "        return a + b\n",
    "\n",
    "# 2. Crear una instancia del modelo\n",
    "modelo = Suma()\n",
    "\n",
    "# 3. Registrar el grafo para su visualización en TensorBoard\n",
    "writer = tf.summary.create_file_writer(\"logs_suma\")\n",
    "\n",
    "# 4. Iniciar el seguimiento del grafo y registrar las operaciones\n",
    "tf.summary.trace_on(graph=True)\n",
    "\n",
    "# 5. Llamar al modelo con dos tensores para generar el grafo\n",
    "modelo(tf.constant(2.0), tf.constant(3.0))\n",
    "\n",
    "#6. Exportar el grafo a TensorBoard\n",
    "with writer.as_default():\n",
    "    tf.summary.trace_export(name=\"suma_grafo\", step=0)\n",
    "\n",
    "#Ejecutar el comando para ver el grafo: tensorboard --logdir=logs_suma\n",
    "# Luego, abre tu navegador y ve a http://localhost:6006 para ver el grafo.\n"
   ]
  },
  {
   "cell_type": "markdown",
   "metadata": {},
   "source": [
    "- versión B:\n",
    " - Define una función decorada con `@tf.function`.\n",
    " - La función se puede usar para crear grafos, pero no es un modelo completo para guardar.\n",
    " - Más adecuado para funciones sencillas, operaciones aisladas.\n",
    " - No tiene input_signature explícita, puede ser más flexible pero menos optimizable."
   ]
  },
  {
   "cell_type": "code",
   "execution_count": null,
   "metadata": {},
   "outputs": [
    {
     "name": "stdout",
     "output_type": "stream",
     "text": [
      "2.16.2\n"
     ]
    }
   ],
   "source": [
    "import tensorflow as tf\n",
    "\n",
    "# 1. Definir una función que realiza una suma y convertirla en un grafo de TensorFlow\n",
    "@tf.function\n",
    "def suma(a, b):\n",
    "    return a + b\n",
    "\n",
    "# 2. Registrar el grafo para su visualización en TensorBoard\n",
    "writer = tf.summary.create_file_writer(\"logs\")\n",
    "\n",
    "# 3. Iniciar el seguimiento del grafo y registrar las operaciones\n",
    "tf.summary.trace_on(graph=True, profiler=False) # Iniciar el seguimiento del grafo, registrando las operaciones y el grafo de ejecución, pero desactivando el perfilador para evitar la recopilación de estadísticas de rendimiento.\n",
    "\n",
    "# 4. Llamar a la función con dos tensores para generar el grafo\n",
    "suma(tf.constant(2.0, name=\"constante a\"), tf.constant(3.0, name=\"constante b\"))\n",
    "\n",
    "# 5. Exportar el grafo a TensorBoard\n",
    "with writer.as_default():\n",
    "    tf.summary.trace_export(name=\"grafo_suma\", step=0)\n",
    "\n",
    "#Ejecutar el comando para ver el grafo: tensorboard --logdir=logs\n",
    "# Luego, abre tu navegador y ve a http://localhost:6006 para ver el grafo.\n"
   ]
  },
  {
   "cell_type": "markdown",
   "metadata": {},
   "source": [
    "### Guardar un Grafo\n",
    "\n",
    "Puedes guardar el grafo e indicar la ruta donde guardar el grafo o modelo:\n",
    "\n",
    "```python\n",
    "tf.saved_model.save(modelo, \"mi_modelo_guardado/\")\n",
    "```\n",
    "\n",
    "- `tf` → Es el módulo principal de TensorFlow.\n",
    "- `saved_model` → Es un submódulo de TensorFlow para trabajar con modelos guardados.\n",
    "- `save(...)` → Es una función que guarda el modelo en el disco.\n",
    "- `modelo` → Es el objeto del modelo que quieres guardar (puede ser un tf.keras.Model).\n",
    "- `\"mi_modelo_guardado\"` → Es la ruta (carpeta) donde se guardará el modelo. Si no existe, se crea.\n",
    "\n",
    "Esto crea una carpeta llamada mi_modelo_guardado/ con:\n",
    "\n",
    "```css\n",
    "mi_modelo_guardado/\n",
    "├── saved_model.pb        ← El grafo computacional guardado\n",
    "├── assets/               ← (vacío o con archivos extra, si se usaron)\n",
    "└── variables/\n",
    "    ├── variables.data-00000-of-00001  ← Pesos del modelo\n",
    "    └── variables.index                ← Índices para restaurar los pesos\n",
    "```\n",
    "\n",
    "Para cargarlo posteriormente usariamos: \n",
    "\n",
    "```python\n",
    "modelo_cargado = tf.saved_model.load(\"mi_modelo_guardado/\")\n",
    "```\n",
    "\n",
    "¿Qué tipo de objetos podemos guardar?\n",
    "\n",
    "- Modelos creados con tf.keras.Model.\n",
    "- Funciones decoradas con @tf.function.\n",
    "- Modelos personalizados construidos con TensorFlow."
   ]
  },
  {
   "cell_type": "code",
   "execution_count": 17,
   "metadata": {},
   "outputs": [
    {
     "name": "stdout",
     "output_type": "stream",
     "text": [
      "INFO:tensorflow:Assets written to: modelo_guardado_suma/assets\n"
     ]
    },
    {
     "name": "stderr",
     "output_type": "stream",
     "text": [
      "INFO:tensorflow:Assets written to: modelo_guardado_suma/assets\n"
     ]
    }
   ],
   "source": [
    "import tensorflow as tf\n",
    "\n",
    "# 1. Creamos un grafo de TensorFlow utilizando tf.Module\n",
    "class Suma(tf.Module): # Clase que hereda de tf.Module para crear un modelo, permitiendo guardar y exportar funciones como un grafo\n",
    "    @tf.function(input_signature=[ #input_signature define los tipos y formas de los tensores de entrada\n",
    "        tf.TensorSpec(shape=(), dtype=tf.float32), # TensorSpec define la forma y tipo de los tensores de entrada\n",
    "        tf.TensorSpec(shape=(), dtype=tf.float32)\n",
    "    ])\n",
    "    def __call__(self, a, b): # \"Cuando alguien use este objeto como si fuera una función, se llamará a este método\"\n",
    "        return a + b\n",
    "\n",
    "# 2. Crear una instancia del modelo\n",
    "modelo = Suma()\n",
    "\n",
    "# 3. Registrar el grafo para su visualización en TensorBoard\n",
    "writer = tf.summary.create_file_writer(\"logs_suma\")\n",
    "\n",
    "# 4. Iniciar el seguimiento del grafo y registrar las operaciones\n",
    "tf.summary.trace_on(graph=True)\n",
    "\n",
    "# 5. Llamar al modelo con dos tensores para generar el grafo\n",
    "modelo(tf.constant(2.0), tf.constant(3.0))\n",
    "\n",
    "#6. Exportar el grafo a TensorBoard\n",
    "with writer.as_default():\n",
    "    tf.summary.trace_export(name=\"suma_grafo\", step=0)\n",
    "\n",
    "# 7. GUARDAR EL MODELO CON SU GRAFO\n",
    "tf.saved_model.save(modelo, \"modelo_guardado_suma\")\n"
   ]
  },
  {
   "cell_type": "markdown",
   "metadata": {},
   "source": [
    "### Versión 1 de Tensorflow"
   ]
  },
  {
   "cell_type": "code",
   "execution_count": null,
   "metadata": {},
   "outputs": [],
   "source": [
    "\"\"\"import tensorflow.compat.v1 as tf\n",
    "tf.disable_v2_behavior()\n",
    "# 1. Definir el grafo computacional\n",
    "# # Crear nodos constantes\n",
    "a = tf.constant(5.0, name=\"constante_a\")\n",
    "b = tf.constant(3.0, name=\"constante_b\")\n",
    "# Crear nodo de suma\n",
    "suma = tf.add(a, b, name=\"operacion_suma\")\n",
    "# 2. Crear una sesión\n",
    "with tf.Session() as sess:   \n",
    "     # 3. Ejecutar el grafo    \n",
    "     resultado = sess.run(suma)    \n",
    "     # 4. Imprimir el resultado    \n",
    "     print(\"El resultado de la suma es:\", resultado)\n",
    "     # La sesión se cierra automáticamente al salir del bloque 'with'\"\"\""
   ]
  },
  {
   "cell_type": "markdown",
   "metadata": {},
   "source": [
    "Explicación del Código:\n",
    "- **import tensorflow as tf**: Importa la biblioteca TensorFlow y la asigna el alias tf.\n",
    "- **a = tf.constant(5.0, name=\"constante_a\")**: Crea un nodo constante en el grafo que contiene el valor 5.0. El name es opcional, pero ayuda a identificar los nodos en TensorBoard.\n",
    "- **b = tf.constant(3.0, name=\"constante_b\")**: Crea un nodo constante en el grafo que contiene el valor 3.0.\n",
    "- **suma = tf.add(a, b, name=\"operacion_suma\")**: Crea un nodo en el grafo que representa la operación de suma entre los nodos a y b.\n",
    "- **with tf.Session() as sess:**: Crea una sesión de TensorFlow. El bloque with asegura que la sesión se cierre correctamente al finalizar.\n",
    "- **resultado = sess.run(suma)**: Ejecuta el grafo, comenzando en el nodo suma. El resultado de la operación se almacena en la variable resultado.\n",
    "- **print(\"El resultado de la suma es:\", resultado)**: Imprime el resultado de la suma en la consola."
   ]
  }
 ],
 "metadata": {
  "kernelspec": {
   "display_name": ".venv",
   "language": "python",
   "name": "python3"
  },
  "language_info": {
   "codemirror_mode": {
    "name": "ipython",
    "version": 3
   },
   "file_extension": ".py",
   "mimetype": "text/x-python",
   "name": "python",
   "nbconvert_exporter": "python",
   "pygments_lexer": "ipython3",
   "version": "3.10.0"
  }
 },
 "nbformat": 4,
 "nbformat_minor": 2
}