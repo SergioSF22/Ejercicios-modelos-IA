{
 "cells": [
  {
   "cell_type": "markdown",
   "metadata": {},
   "source": [
    "## Entrenamiento de Arbol de decision\n",
    "-   Crear árbol de decisión de clasificación:\n",
    "    -   Sacamos acurracy (si el dataset es muy grande sacar además recall, precisión y F1-Score)\n",
    "-   Realizar ajuste automático de hiperparámetros\n",
    "-   En función de la salida intentamos ajustar al detalle\n",
    "-   Mostramos e interpretamos los resultados"
   ]
  },
  {
   "cell_type": "code",
   "execution_count": 32,
   "metadata": {},
   "outputs": [],
   "source": [
    "# Importación de librerias \n",
    "import pandas as pd\n",
    "import numpy as np\n",
    "from sklearn.model_selection import train_test_split, GridSearchCV\n",
    "from sklearn.tree import DecisionTreeClassifier\n",
    "from sklearn.metrics import accuracy_score, f1_score\n",
    "from sklearn import tree \n",
    "from sklearn.preprocessing import StandardScaler"
   ]
  },
  {
   "cell_type": "markdown",
   "metadata": {},
   "source": [
    "### Limpieza y carga de datos datos"
   ]
  },
  {
   "cell_type": "code",
   "execution_count": 33,
   "metadata": {},
   "outputs": [],
   "source": [
    "# Cargamos el CSV\n",
    "df = pd.read_csv(\"banking.csv\")\n",
    "\n",
    "# Analizamos el contenido del dataset\n",
    "# print(df.info())\n",
    "# print(df.describe())\n",
    "\n",
    "# Obtenemos la cantidad de valores únicos por columna para averiguar las variables categóricas \n",
    "# for col in df.columns:\n",
    "#     print(f\"{col}: {df[col].unique()}\")\n",
    "#     print(f\"{col}: {len(df[col].unique())}\")\n",
    "\n",
    "# Definimos las variables categóricas\n",
    "categoricos = [\"job\", \"marital\", \"education\", \"default\", \"housing\", \"loan\", \"contact\", \"month\", \"day_of_week\", \"poutcome\"]\n",
    "\n",
    "# Resumir la columna educación\n",
    "df[\"education\"] = np.where((df[\"education\"] == 'basic.4y') | (df[\"education\"] == 'basic.6y') | (df[\"education\"] == 'basic.9y'), \n",
    "                           'Basic', \n",
    "                           df[\"education\"])\n"
   ]
  },
  {
   "cell_type": "markdown",
   "metadata": {},
   "source": [
    "### Preprocesamiento de los datos y entrenamiento del modelo\n",
    "\n",
    "Primer entrenamiento del modelo con hiperparámetros por defecto"
   ]
  },
  {
   "cell_type": "code",
   "execution_count": null,
   "metadata": {},
   "outputs": [
    {
     "name": "stdout",
     "output_type": "stream",
     "text": [
      "Accuracy del modelo sin ajustar hiperparámetros: 88.78%\n"
     ]
    }
   ],
   "source": [
    "# Encodeamos las variables categóricas mediante OneHotEncoder\n",
    "df = pd.get_dummies(df, columns=categoricos, drop_first=True)\n",
    "\n",
    "# Definimos las variables predictoras y objetivo\n",
    "X = df.drop(columns=[\"y\"])\n",
    "y = df[\"y\"]\n",
    "\n",
    "# Normalizamos las variables numéricas mediante StandarScaler\n",
    "scaler = StandardScaler()\n",
    "X = scaler.fit_transform(X)\n",
    "\n",
    "# Dividimos los datos en entrenamiento y prueba\n",
    "X_train, X_test, y_train, y_test = train_test_split(X, y, test_size=0.2, random_state=42)\n",
    "\n",
    "# Definimos el modelo\n",
    "model = DecisionTreeClassifier(random_state=42)\n",
    "\n",
    "# Entrenamos el modelo\n",
    "model.fit(X_train, y_train)\n",
    "\n",
    "# Hacer predicciones\n",
    "y_pred = model.predict(X_test)\n",
    "\n",
    "# Evaluar modelo\n",
    "accuracy = accuracy_score(y_test, y_pred)\n",
    "print(f\"Accuracy: {accuracy * 100:.2f}%\")"
   ]
  },
  {
   "cell_type": "markdown",
   "metadata": {},
   "source": [
    "Segundo entrenamiento del modelo mediante la búsqueda automática de hiperparámetros"
   ]
  },
  {
   "cell_type": "code",
   "execution_count": 35,
   "metadata": {},
   "outputs": [
    {
     "name": "stdout",
     "output_type": "stream",
     "text": [
      "Mejores parámetros: {'criterion': 'gini', 'max_depth': 5, 'min_samples_leaf': 1, 'min_samples_split': 2, 'splitter': 'best'}\n",
      "Accuracy del modelo sin ajustar hiperparámetros: 91.16%\n"
     ]
    }
   ],
   "source": [
    "# Búsqueda automática de hiperparámetros\n",
    "# Definimos los hiperparámetros sobre los que queremos que realice pruebas el GridSearch\n",
    "param_grid = {\n",
    "    'max_depth': [3, 5, 10, None],\n",
    "    'min_samples_split': [2, 5, 10],\n",
    "    'min_samples_leaf': [1, 2, 4],\n",
    "    'criterion': ['gini', 'entropy'],\n",
    "    'splitter' : ['best', 'random']\n",
    "}\n",
    "# Definimos el objeto de GridSearchCV mediante el modelo, los hiperparámetros, el nº de iteraciones y la métrica de evuliación de los modelos\n",
    "grid_search = GridSearchCV(estimator=model, param_grid=param_grid, cv=5, scoring='accuracy')\n",
    "\n",
    "# Entrenamos el modelo\n",
    "grid_search.fit(X_train, y_train)\n",
    "\n",
    "# Imprimimos los mejores parámetros\n",
    "print(f\"Mejores parámetros: {grid_search.best_params_}\")\n",
    "\n",
    "# Evaluar modelo\n",
    "accuracy_grid = grid_search.score(X_test, y_test)\n",
    "print(f\"Accuracy del modelo sin ajustar hiperparámetros: {accuracy_grid * 100:.2f}%\")"
   ]
  },
  {
   "cell_type": "markdown",
   "metadata": {},
   "source": [
    "Mediante la búsqueda automática de hiperparámetros determinamos que los mejores son:\n",
    "-   ``'criterion': 'gini'``\n",
    "-   ``'max_depth': 5 ``\n",
    "-   ``'min_samples_leaf': 1 ``\n",
    "-   ``'min_samples_split': 2``\n",
    "-   ``'splitter': 'best'``"
   ]
  }
 ],
 "metadata": {
  "kernelspec": {
   "display_name": ".venv",
   "language": "python",
   "name": "python3"
  },
  "language_info": {
   "codemirror_mode": {
    "name": "ipython",
    "version": 3
   },
   "file_extension": ".py",
   "mimetype": "text/x-python",
   "name": "python",
   "nbconvert_exporter": "python",
   "pygments_lexer": "ipython3",
   "version": "3.10.0"
  }
 },
 "nbformat": 4,
 "nbformat_minor": 2
}
