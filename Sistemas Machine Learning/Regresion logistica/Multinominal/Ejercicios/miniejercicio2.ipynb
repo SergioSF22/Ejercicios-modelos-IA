{
 "cells": [
  {
   "cell_type": "markdown",
   "metadata": {},
   "source": [
    "### ENTRENAR MODELO DE REGRESIÓN LOGÍSTICA MULTINOMINAL\n",
    "\n",
    "- Crear un modelo de regresión logística multinomial, que permita clasificar vehículos con datos sintéticos.\n",
    "- Caraterísticas: ruedas (2, 4, 6, 8), capacidad_pasajeros ( 1, 2, 4, 5, 6), carga_máxima (50, 200, 500, 2000, y 5000)\n",
    "- Etiquetas: Moto (2 ruedas y carga 50), Camión (6 u 8 ruedas y carga de 2000 o 5000), y Coche (4 o 5 ruedas y carga de 200 a 500)\n",
    "- 300 ejemplos"
   ]
  },
  {
   "cell_type": "code",
   "execution_count": 41,
   "metadata": {},
   "outputs": [],
   "source": [
    "# Cargamos las librerías necesarias\n",
    "from sklearn.model_selection import train_test_split\n",
    "from sklearn.linear_model import LogisticRegression\n",
    "from sklearn.metrics import classification_report, ConfusionMatrixDisplay\n",
    "from sklearn.preprocessing import StandardScaler\n",
    "import pandas as pd\n",
    "import numpy as np\n",
    "import matplotlib as plt"
   ]
  },
  {
   "cell_type": "code",
   "execution_count": 42,
   "metadata": {},
   "outputs": [
    {
     "name": "stdout",
     "output_type": "stream",
     "text": [
      "<class 'pandas.core.frame.DataFrame'>\n",
      "RangeIndex: 300 entries, 0 to 299\n",
      "Data columns (total 4 columns):\n",
      " #   Column               Non-Null Count  Dtype\n",
      "---  ------               --------------  -----\n",
      " 0   ruedas               300 non-null    int64\n",
      " 1   capacidad_pasajeros  300 non-null    int64\n",
      " 2   carga_maxima         300 non-null    int64\n",
      " 3   Tipo                 300 non-null    int64\n",
      "dtypes: int64(4)\n",
      "memory usage: 9.5 KB\n",
      "None\n",
      "     ruedas  capacidad_pasajeros  carga_maxima  Tipo\n",
      "1         8                    1          2000     1\n",
      "5         8                    5          2000     1\n",
      "8         6                    6          5000     1\n",
      "11        6                    3          5000     1\n",
      "12        6                    1          2000     1\n",
      "..      ...                  ...           ...   ...\n",
      "259       6                    3          2000     1\n",
      "272       8                    5          2000     1\n",
      "273       8                    4          5000     1\n",
      "297       6                    2          5000     1\n",
      "299       8                    4          2000     1\n",
      "\n",
      "[66 rows x 4 columns]\n"
     ]
    }
   ],
   "source": [
    "# Generar datos sintéticos para clasificación de especies de animales\n",
    "# Etiquetas: 0 Moto, 1 Camión, 2 Coche\n",
    "# Características: 0 Pelo, 1 Plumas, 2 Temperatura\n",
    "\n",
    "np.random.seed(42)\n",
    "n_samples = 300\n",
    "\n",
    "# Características de los animales\n",
    "ruedas = np.random.choice([2, 4, 6, 8], n_samples)\n",
    "capacidad_pasajeros = np.random.choice([1, 2, 3, 4, 5, 6], n_samples)\n",
    "carga_maxima = np.random.choice([50, 200, 500, 2000, 5000], n_samples)\n",
    "\n",
    "# Etiquetas de los vehiculos\n",
    "y = np.where((ruedas == 2) & (carga_maxima == 50), 0,\n",
    "    np.where(((ruedas == 6) | (ruedas == 8)) & (2000 <= carga_maxima) & (carga_maxima <= 5000), 1,\n",
    "    np.where(((ruedas == 4) | (ruedas == 5)) & (200 <= carga_maxima) & (carga_maxima <= 500), 2, 3)))\n",
    "\n",
    "# Creamos el DataFrame con los datos sintéticos generados\n",
    "df = pd.DataFrame({\n",
    "    'ruedas' : ruedas,\n",
    "    'capacidad_pasajeros' : capacidad_pasajeros,\n",
    "    'carga_maxima' : carga_maxima,\n",
    "    'Tipo' : y\n",
    "})\n",
    "\n",
    "print(df.info())\n",
    "print(df[df[\"Tipo\"] == 1])"
   ]
  },
  {
   "cell_type": "code",
   "execution_count": 43,
   "metadata": {},
   "outputs": [
    {
     "name": "stdout",
     "output_type": "stream",
     "text": [
      "              precision    recall  f1-score   support\n",
      "\n",
      "        Moto       0.00      0.00      0.00         9\n",
      "      Camión       1.00      0.88      0.93        16\n",
      "       Coche       0.00      0.00      0.00        11\n",
      " Desconocido       0.71      1.00      0.83        54\n",
      "\n",
      "    accuracy                           0.76        90\n",
      "   macro avg       0.43      0.47      0.44        90\n",
      "weighted avg       0.60      0.76      0.66        90\n",
      "\n"
     ]
    },
    {
     "name": "stderr",
     "output_type": "stream",
     "text": [
      "c:\\Users\\SergioSF\\Desktop\\Programacion de Modelos de IA\\Ejercicios y apuntes\\.venv\\lib\\site-packages\\sklearn\\linear_model\\_logistic.py:1247: FutureWarning: 'multi_class' was deprecated in version 1.5 and will be removed in 1.7. From then on, it will always use 'multinomial'. Leave it to its default value to avoid this warning.\n",
      "  warnings.warn(\n",
      "c:\\Users\\SergioSF\\Desktop\\Programacion de Modelos de IA\\Ejercicios y apuntes\\.venv\\lib\\site-packages\\sklearn\\metrics\\_classification.py:1565: UndefinedMetricWarning: Precision is ill-defined and being set to 0.0 in labels with no predicted samples. Use `zero_division` parameter to control this behavior.\n",
      "  _warn_prf(average, modifier, f\"{metric.capitalize()} is\", len(result))\n",
      "c:\\Users\\SergioSF\\Desktop\\Programacion de Modelos de IA\\Ejercicios y apuntes\\.venv\\lib\\site-packages\\sklearn\\metrics\\_classification.py:1565: UndefinedMetricWarning: Precision is ill-defined and being set to 0.0 in labels with no predicted samples. Use `zero_division` parameter to control this behavior.\n",
      "  _warn_prf(average, modifier, f\"{metric.capitalize()} is\", len(result))\n",
      "c:\\Users\\SergioSF\\Desktop\\Programacion de Modelos de IA\\Ejercicios y apuntes\\.venv\\lib\\site-packages\\sklearn\\metrics\\_classification.py:1565: UndefinedMetricWarning: Precision is ill-defined and being set to 0.0 in labels with no predicted samples. Use `zero_division` parameter to control this behavior.\n",
      "  _warn_prf(average, modifier, f\"{metric.capitalize()} is\", len(result))\n"
     ]
    },
    {
     "data": {
      "text/plain": [
       "<sklearn.metrics._plot.confusion_matrix.ConfusionMatrixDisplay at 0x204efd21900>"
      ]
     },
     "execution_count": 43,
     "metadata": {},
     "output_type": "execute_result"
    },
    {
     "data": {
      "image/png": "[encoded data removed]",
      "text/plain": [
       "<Figure size 640x480 with 2 Axes>"
      ]
     },
     "metadata": {},
     "output_type": "display_data"
    }
   ],
   "source": [
    "# Definimos las variables predictoras y la variable objetivo\n",
    "X = df.drop(columns=[\"Tipo\"])\n",
    "y = df[\"Tipo\"]\n",
    "\n",
    "# Dividimos los datos de entrenamiento y prueba\n",
    "X_train, X_test, y_train, y_test = train_test_split(X, y, test_size=0.3, random_state=42)\n",
    "\n",
    "# Estandarizamos los datos\n",
    "scaler = StandardScaler()\n",
    "X_train = scaler.fit_transform(X_train)\n",
    "X_test = scaler.transform(X_test)\n",
    "\n",
    "# Creamos el modelo de regresión logística multinominal\n",
    "model = LogisticRegression(solver='lbfgs', multi_class='multinomial', max_iter=500) # El parámetro \" multi_class='mulnominal' \" es el que determina que este modelo de RL sea multinominal\n",
    "\n",
    "# Entrenamos el modelo\n",
    "model.fit(X_train, y_train)\n",
    "\n",
    "# Realizamos las predicciones\n",
    "y_pred = model.predict(X_test)\n",
    "\n",
    "# Mostramos el reporte de la clasificación\n",
    "print(classification_report(y_test, y_pred, target_names=[\"Moto\", \"Camión\", \"Coche\", \"Desconocido\"]))\n",
    "\n",
    "# Creamos la matriz de confusión y la mostramos\n",
    "ConfusionMatrixDisplay.from_estimator(model, X_test, y_test, display_labels=[\"Moto\", \"Camión\", \"Coche\", \"Desconocido\"], cmap= plt.colormaps.get_cmap(\"Oranges\"))"
   ]
  }
 ],
 "metadata": {
  "kernelspec": {
   "display_name": ".venv",
   "language": "python",
   "name": "python3"
  },
  "language_info": {
   "codemirror_mode": {
    "name": "ipython",
    "version": 3
   },
   "file_extension": ".py",
   "mimetype": "text/x-python",
   "name": "python",
   "nbconvert_exporter": "python",
   "pygments_lexer": "ipython3",
   "version": "3.10.0"
  }
 },
 "nbformat": 4,
 "nbformat_minor": 2
}
